{
  "nbformat": 4,
  "nbformat_minor": 0,
  "metadata": {
    "colab": {
      "name": "Copy of 01_Linear_Regression.ipynb",
      "provenance": [],
      "collapsed_sections": [],
      "include_colab_link": true
    },
    "kernelspec": {
      "name": "python3",
      "display_name": "Python 3"
    }
  },
  "cells": [
    {
      "cell_type": "markdown",
      "metadata": {
        "id": "view-in-github",
        "colab_type": "text"
      },
      "source": [
        "<a href=\"https://colab.research.google.com/github/denaldo98/AppXamarin/blob/master/_Linear_Regression.ipynb\" target=\"_parent\"><img src=\"https://colab.research.google.com/assets/colab-badge.svg\" alt=\"Open In Colab\"/></a>"
      ]
    },
    {
      "cell_type": "markdown",
      "metadata": {
        "id": "v-d_quaie4Pj"
      },
      "source": [
        "# Linear Regression"
      ]
    },
    {
      "cell_type": "markdown",
      "metadata": {
        "id": "9cZWyGYHbGyy"
      },
      "source": [
        "Let us consider the [iris dataset](https://en.wikipedia.org/wiki/Iris_flower_data_set).\n",
        "\n",
        "In the dataset we have data regarding specific species of flowers :\n",
        "- Sepal length;\n",
        "- Sepal width;\n",
        "- Petal length;\n",
        "- Petal width;\n",
        "- Species (*Iris setosa*, *Iris virginica* e *Iris versicolor*).\n",
        "\n",
        "In the specific, we have N = 150 total samples (50 per class).\n",
        "\n",
        "<img src='https://drive.google.com/uc?id=1cBVClKfJOVXwK-VCjwd9XzRgCN-wvec_' width=250>"
      ]
    },
    {
      "cell_type": "markdown",
      "metadata": {
        "id": "w6giCMiZfHuy"
      },
      "source": [
        "## Loading\n"
      ]
    },
    {
      "cell_type": "markdown",
      "metadata": {
        "id": "rFiMVDR4ee8Y"
      },
      "source": [
        "We need to import **matplotlib** and **pandas** to handle data and plots."
      ]
    },
    {
      "cell_type": "code",
      "metadata": {
        "id": "n58XRpsX2cfv"
      },
      "source": [
        "import pandas as pd\n",
        "from pandas.plotting import scatter_matrix\n",
        "import matplotlib.pyplot as plt"
      ],
      "execution_count": 1,
      "outputs": []
    },
    {
      "cell_type": "markdown",
      "metadata": {
        "id": "WsTZ7gaOe0-X"
      },
      "source": [
        "We can find the dataset we need to analyse online. We use pandas to load the csv to a **pandas.DataFrame**."
      ]
    },
    {
      "cell_type": "code",
      "metadata": {
        "id": "DsDXGniMhFHO"
      },
      "source": [
        "url = \"https://archive.ics.uci.edu/ml/machine-learning-databases/iris/iris.data\"\n",
        "names = ['sepal-length', 'sepal-width', 'petal-length', 'petal-width', 'class']\n",
        "dataset = pd.read_csv(url, names=names)"
      ],
      "execution_count": 2,
      "outputs": []
    },
    {
      "cell_type": "markdown",
      "metadata": {
        "id": "_cuX00NpfKfQ"
      },
      "source": [
        "We can start to have a look the data we have"
      ]
    },
    {
      "cell_type": "code",
      "metadata": {
        "id": "XQ6dMKw4hMG8",
        "colab": {
          "base_uri": "https://localhost:8080/",
          "height": 202
        },
        "outputId": "0e8f5d5d-d484-430f-d8a4-3062d235526e"
      },
      "source": [
        "dataset.head()"
      ],
      "execution_count": 3,
      "outputs": [
        {
          "output_type": "execute_result",
          "data": {
            "text/html": [
              "<div>\n",
              "<style scoped>\n",
              "    .dataframe tbody tr th:only-of-type {\n",
              "        vertical-align: middle;\n",
              "    }\n",
              "\n",
              "    .dataframe tbody tr th {\n",
              "        vertical-align: top;\n",
              "    }\n",
              "\n",
              "    .dataframe thead th {\n",
              "        text-align: right;\n",
              "    }\n",
              "</style>\n",
              "<table border=\"1\" class=\"dataframe\">\n",
              "  <thead>\n",
              "    <tr style=\"text-align: right;\">\n",
              "      <th></th>\n",
              "      <th>sepal-length</th>\n",
              "      <th>sepal-width</th>\n",
              "      <th>petal-length</th>\n",
              "      <th>petal-width</th>\n",
              "      <th>class</th>\n",
              "    </tr>\n",
              "  </thead>\n",
              "  <tbody>\n",
              "    <tr>\n",
              "      <th>0</th>\n",
              "      <td>5.1</td>\n",
              "      <td>3.5</td>\n",
              "      <td>1.4</td>\n",
              "      <td>0.2</td>\n",
              "      <td>Iris-setosa</td>\n",
              "    </tr>\n",
              "    <tr>\n",
              "      <th>1</th>\n",
              "      <td>4.9</td>\n",
              "      <td>3.0</td>\n",
              "      <td>1.4</td>\n",
              "      <td>0.2</td>\n",
              "      <td>Iris-setosa</td>\n",
              "    </tr>\n",
              "    <tr>\n",
              "      <th>2</th>\n",
              "      <td>4.7</td>\n",
              "      <td>3.2</td>\n",
              "      <td>1.3</td>\n",
              "      <td>0.2</td>\n",
              "      <td>Iris-setosa</td>\n",
              "    </tr>\n",
              "    <tr>\n",
              "      <th>3</th>\n",
              "      <td>4.6</td>\n",
              "      <td>3.1</td>\n",
              "      <td>1.5</td>\n",
              "      <td>0.2</td>\n",
              "      <td>Iris-setosa</td>\n",
              "    </tr>\n",
              "    <tr>\n",
              "      <th>4</th>\n",
              "      <td>5.0</td>\n",
              "      <td>3.6</td>\n",
              "      <td>1.4</td>\n",
              "      <td>0.2</td>\n",
              "      <td>Iris-setosa</td>\n",
              "    </tr>\n",
              "  </tbody>\n",
              "</table>\n",
              "</div>"
            ],
            "text/plain": [
              "   sepal-length  sepal-width  petal-length  petal-width        class\n",
              "0           5.1          3.5           1.4          0.2  Iris-setosa\n",
              "1           4.9          3.0           1.4          0.2  Iris-setosa\n",
              "2           4.7          3.2           1.3          0.2  Iris-setosa\n",
              "3           4.6          3.1           1.5          0.2  Iris-setosa\n",
              "4           5.0          3.6           1.4          0.2  Iris-setosa"
            ]
          },
          "metadata": {
            "tags": []
          },
          "execution_count": 3
        }
      ]
    },
    {
      "cell_type": "markdown",
      "metadata": {
        "id": "E7QPbBXcfxJR"
      },
      "source": [
        "we do not care about the flower species in this lesson, hence we remove that column:"
      ]
    },
    {
      "cell_type": "code",
      "metadata": {
        "id": "8NwQ3wkKxCMK"
      },
      "source": [
        "dataset = dataset.drop('class', axis=1)"
      ],
      "execution_count": 4,
      "outputs": []
    },
    {
      "cell_type": "code",
      "metadata": {
        "id": "V2mK3dX4qtyp",
        "colab": {
          "base_uri": "https://localhost:8080/",
          "height": 202
        },
        "outputId": "d3177f40-9d27-455b-e9c4-cde2ffe9ac85"
      },
      "source": [
        "dataset.head()"
      ],
      "execution_count": 5,
      "outputs": [
        {
          "output_type": "execute_result",
          "data": {
            "text/html": [
              "<div>\n",
              "<style scoped>\n",
              "    .dataframe tbody tr th:only-of-type {\n",
              "        vertical-align: middle;\n",
              "    }\n",
              "\n",
              "    .dataframe tbody tr th {\n",
              "        vertical-align: top;\n",
              "    }\n",
              "\n",
              "    .dataframe thead th {\n",
              "        text-align: right;\n",
              "    }\n",
              "</style>\n",
              "<table border=\"1\" class=\"dataframe\">\n",
              "  <thead>\n",
              "    <tr style=\"text-align: right;\">\n",
              "      <th></th>\n",
              "      <th>sepal-length</th>\n",
              "      <th>sepal-width</th>\n",
              "      <th>petal-length</th>\n",
              "      <th>petal-width</th>\n",
              "    </tr>\n",
              "  </thead>\n",
              "  <tbody>\n",
              "    <tr>\n",
              "      <th>0</th>\n",
              "      <td>5.1</td>\n",
              "      <td>3.5</td>\n",
              "      <td>1.4</td>\n",
              "      <td>0.2</td>\n",
              "    </tr>\n",
              "    <tr>\n",
              "      <th>1</th>\n",
              "      <td>4.9</td>\n",
              "      <td>3.0</td>\n",
              "      <td>1.4</td>\n",
              "      <td>0.2</td>\n",
              "    </tr>\n",
              "    <tr>\n",
              "      <th>2</th>\n",
              "      <td>4.7</td>\n",
              "      <td>3.2</td>\n",
              "      <td>1.3</td>\n",
              "      <td>0.2</td>\n",
              "    </tr>\n",
              "    <tr>\n",
              "      <th>3</th>\n",
              "      <td>4.6</td>\n",
              "      <td>3.1</td>\n",
              "      <td>1.5</td>\n",
              "      <td>0.2</td>\n",
              "    </tr>\n",
              "    <tr>\n",
              "      <th>4</th>\n",
              "      <td>5.0</td>\n",
              "      <td>3.6</td>\n",
              "      <td>1.4</td>\n",
              "      <td>0.2</td>\n",
              "    </tr>\n",
              "  </tbody>\n",
              "</table>\n",
              "</div>"
            ],
            "text/plain": [
              "   sepal-length  sepal-width  petal-length  petal-width\n",
              "0           5.1          3.5           1.4          0.2\n",
              "1           4.9          3.0           1.4          0.2\n",
              "2           4.7          3.2           1.3          0.2\n",
              "3           4.6          3.1           1.5          0.2\n",
              "4           5.0          3.6           1.4          0.2"
            ]
          },
          "metadata": {
            "tags": []
          },
          "execution_count": 5
        }
      ]
    },
    {
      "cell_type": "markdown",
      "metadata": {
        "id": "NsNZl40AgQJz"
      },
      "source": [
        "We will try to understand how the feature are distributed, by printing some statistics:"
      ]
    },
    {
      "cell_type": "code",
      "metadata": {
        "id": "5wZg_9XsjX26",
        "colab": {
          "base_uri": "https://localhost:8080/",
          "height": 294
        },
        "outputId": "4b967c8b-0899-49a5-bf74-ee7a040c6fc6"
      },
      "source": [
        "dataset.describe()"
      ],
      "execution_count": 6,
      "outputs": [
        {
          "output_type": "execute_result",
          "data": {
            "text/html": [
              "<div>\n",
              "<style scoped>\n",
              "    .dataframe tbody tr th:only-of-type {\n",
              "        vertical-align: middle;\n",
              "    }\n",
              "\n",
              "    .dataframe tbody tr th {\n",
              "        vertical-align: top;\n",
              "    }\n",
              "\n",
              "    .dataframe thead th {\n",
              "        text-align: right;\n",
              "    }\n",
              "</style>\n",
              "<table border=\"1\" class=\"dataframe\">\n",
              "  <thead>\n",
              "    <tr style=\"text-align: right;\">\n",
              "      <th></th>\n",
              "      <th>sepal-length</th>\n",
              "      <th>sepal-width</th>\n",
              "      <th>petal-length</th>\n",
              "      <th>petal-width</th>\n",
              "    </tr>\n",
              "  </thead>\n",
              "  <tbody>\n",
              "    <tr>\n",
              "      <th>count</th>\n",
              "      <td>150.000000</td>\n",
              "      <td>150.000000</td>\n",
              "      <td>150.000000</td>\n",
              "      <td>150.000000</td>\n",
              "    </tr>\n",
              "    <tr>\n",
              "      <th>mean</th>\n",
              "      <td>5.843333</td>\n",
              "      <td>3.054000</td>\n",
              "      <td>3.758667</td>\n",
              "      <td>1.198667</td>\n",
              "    </tr>\n",
              "    <tr>\n",
              "      <th>std</th>\n",
              "      <td>0.828066</td>\n",
              "      <td>0.433594</td>\n",
              "      <td>1.764420</td>\n",
              "      <td>0.763161</td>\n",
              "    </tr>\n",
              "    <tr>\n",
              "      <th>min</th>\n",
              "      <td>4.300000</td>\n",
              "      <td>2.000000</td>\n",
              "      <td>1.000000</td>\n",
              "      <td>0.100000</td>\n",
              "    </tr>\n",
              "    <tr>\n",
              "      <th>25%</th>\n",
              "      <td>5.100000</td>\n",
              "      <td>2.800000</td>\n",
              "      <td>1.600000</td>\n",
              "      <td>0.300000</td>\n",
              "    </tr>\n",
              "    <tr>\n",
              "      <th>50%</th>\n",
              "      <td>5.800000</td>\n",
              "      <td>3.000000</td>\n",
              "      <td>4.350000</td>\n",
              "      <td>1.300000</td>\n",
              "    </tr>\n",
              "    <tr>\n",
              "      <th>75%</th>\n",
              "      <td>6.400000</td>\n",
              "      <td>3.300000</td>\n",
              "      <td>5.100000</td>\n",
              "      <td>1.800000</td>\n",
              "    </tr>\n",
              "    <tr>\n",
              "      <th>max</th>\n",
              "      <td>7.900000</td>\n",
              "      <td>4.400000</td>\n",
              "      <td>6.900000</td>\n",
              "      <td>2.500000</td>\n",
              "    </tr>\n",
              "  </tbody>\n",
              "</table>\n",
              "</div>"
            ],
            "text/plain": [
              "       sepal-length  sepal-width  petal-length  petal-width\n",
              "count    150.000000   150.000000    150.000000   150.000000\n",
              "mean       5.843333     3.054000      3.758667     1.198667\n",
              "std        0.828066     0.433594      1.764420     0.763161\n",
              "min        4.300000     2.000000      1.000000     0.100000\n",
              "25%        5.100000     2.800000      1.600000     0.300000\n",
              "50%        5.800000     3.000000      4.350000     1.300000\n",
              "75%        6.400000     3.300000      5.100000     1.800000\n",
              "max        7.900000     4.400000      6.900000     2.500000"
            ]
          },
          "metadata": {
            "tags": []
          },
          "execution_count": 6
        }
      ]
    },
    {
      "cell_type": "markdown",
      "metadata": {
        "id": "mEQ7UCiShR8r"
      },
      "source": [
        "Visualizing data can also be very helpful:"
      ]
    },
    {
      "cell_type": "code",
      "metadata": {
        "id": "bm6vr21oki0W",
        "colab": {
          "base_uri": "https://localhost:8080/",
          "height": 553
        },
        "outputId": "130e1f63-ae14-48b0-bba9-17fb9bab82c3"
      },
      "source": [
        "dataset.hist(figsize=(16,9))\n",
        "plt.show()"
      ],
      "execution_count": 10,
      "outputs": [
        {
          "output_type": "display_data",
          "data": {
            "image/png": "[encoded data removed]",
            "text/plain": [
              "<Figure size 1152x648 with 4 Axes>"
            ]
          },
          "metadata": {
            "tags": [],
            "needs_background": "light"
          }
        }
      ]
    },
    {
      "cell_type": "code",
      "metadata": {
        "id": "1Z4dN_xkktbf",
        "colab": {
          "base_uri": "https://localhost:8080/",
          "height": 554
        },
        "outputId": "d662224a-e92c-4b0d-9fc6-5889486b3561"
      },
      "source": [
        "scatter_matrix(dataset, figsize=(16, 9))\n",
        "plt.show()"
      ],
      "execution_count": null,
      "outputs": [
        {
          "output_type": "display_data",
          "data": {
            "image/png": "[encoded data removed]",
            "text/plain": [
              "<Figure size 1152x648 with 16 Axes>"
            ]
          },
          "metadata": {
            "tags": [],
            "needs_background": "light"
          }
        }
      ]
    },
    {
      "cell_type": "markdown",
      "metadata": {
        "id": "bm7JLrwnhqoM"
      },
      "source": [
        "*petal-lenght* and *petal-width* seem to have a strong relationship... we should investigate it more in detail! "
      ]
    },
    {
      "cell_type": "code",
      "metadata": {
        "id": "LdIV99sFxuzy",
        "colab": {
          "base_uri": "https://localhost:8080/",
          "height": 569
        },
        "outputId": "b2be5794-70a3-41e5-91c7-a2126cfbe0fb"
      },
      "source": [
        "dataset.plot.scatter('petal-length', 'petal-width', grid=True, figsize=(16,9))"
      ],
      "execution_count": null,
      "outputs": [
        {
          "output_type": "execute_result",
          "data": {
            "text/plain": [
              "<matplotlib.axes._subplots.AxesSubplot at 0x7fa1eb8aa550>"
            ]
          },
          "metadata": {
            "tags": []
          },
          "execution_count": 9
        },
        {
          "output_type": "display_data",
          "data": {
            "image/png": "[encoded data removed]",
            "text/plain": [
              "<Figure size 1152x648 with 1 Axes>"
            ]
          },
          "metadata": {
            "tags": [],
            "needs_background": "light"
          }
        }
      ]
    },
    {
      "cell_type": "markdown",
      "metadata": {
        "id": "c9D0uEbnoKjL"
      },
      "source": [
        "## Preprocessing"
      ]
    },
    {
      "cell_type": "markdown",
      "metadata": {
        "id": "go8xsLbNiSvM"
      },
      "source": [
        "Once we inspected the data, we should operate some preprocessing procedures. On a\n",
        "generic dataset one should perform:\n",
        "\n",
        "- shuffling;\n",
        "- remove inconsistent data;\n",
        "- remove outliers;\n",
        "- normalize or standardize data;\n",
        "- fill missing data.\n",
        "\n",
        "In this case we are going to use the entire dataset, with a non-iterative method, hence we do not need to **shuffle**.\n",
        "\n",
        "There seems not to be **outliers** from previous inspection.\n",
        "\n",
        "Is there any **missing data**?"
      ]
    },
    {
      "cell_type": "code",
      "metadata": {
        "id": "Edbi7OwnkpH0"
      },
      "source": [
        "import numpy as np"
      ],
      "execution_count": 11,
      "outputs": []
    },
    {
      "cell_type": "code",
      "metadata": {
        "id": "JG5zNjjgkulp",
        "colab": {
          "base_uri": "https://localhost:8080/",
          "height": 183
        },
        "outputId": "81feefdf-f4cd-4056-a58a-f2a3a841e377"
      },
      "source": [
        "np.any(np.isnan(dataset.values))"
      ],
      "execution_count": 12,
      "outputs": [
        {
          "output_type": "error",
          "ename": "TypeError",
          "evalue": "ignored",
          "traceback": [
            "\u001b[0;31m---------------------------------------------------------------------------\u001b[0m",
            "\u001b[0;31mTypeError\u001b[0m                                 Traceback (most recent call last)",
            "\u001b[0;32m<ipython-input-12-f46064ad5def>\u001b[0m in \u001b[0;36m<module>\u001b[0;34m()\u001b[0m\n\u001b[0;32m----> 1\u001b[0;31m \u001b[0mnp\u001b[0m\u001b[0;34m.\u001b[0m\u001b[0many\u001b[0m\u001b[0;34m(\u001b[0m\u001b[0mnp\u001b[0m\u001b[0;34m.\u001b[0m\u001b[0misnan\u001b[0m\u001b[0;34m(\u001b[0m\u001b[0mdataset\u001b[0m\u001b[0;34m.\u001b[0m\u001b[0mvalues\u001b[0m\u001b[0;34m)\u001b[0m\u001b[0;34m)\u001b[0m\u001b[0;34m\u001b[0m\u001b[0;34m\u001b[0m\u001b[0m\n\u001b[0m",
            "\u001b[0;31mTypeError\u001b[0m: ufunc 'isnan' not supported for the input types, and the inputs could not be safely coerced to any supported types according to the casting rule ''safe''"
          ]
        }
      ]
    },
    {
      "cell_type": "markdown",
      "metadata": {
        "id": "rfRSP-95k4RX"
      },
      "source": [
        "we are lucky, no missing data, no outliers... \n",
        "\n",
        "However it is always better to work with data in the same scale, hence we should normalize the columns we are going to use.\n",
        "\n",
        "\\begin{align*}\n",
        "\ts &\\leftarrow \\frac{s - \\bar{s}}{S} \\\\\n",
        "\ts &\\leftarrow \\frac{s - \\bar{s}}{\\max_n \\{ s_n \\} - \\min_n \\{ s_n \\}}\n",
        "\\end{align*}\n",
        "\n",
        "The **zscore** function operates a standardization of its inputs."
      ]
    },
    {
      "cell_type": "code",
      "metadata": {
        "id": "UK0h49LloI-0"
      },
      "source": [
        "from scipy.stats import zscore"
      ],
      "execution_count": null,
      "outputs": []
    },
    {
      "cell_type": "code",
      "metadata": {
        "id": "F0QkTCpxsyKg"
      },
      "source": [
        "x = zscore(dataset['petal-length'].values).reshape(-1, 1) # we reshape our feature column as a (n_sample, n_features) matrix\n",
        "y = zscore(dataset['petal-width'].values)"
      ],
      "execution_count": null,
      "outputs": []
    },
    {
      "cell_type": "markdown",
      "metadata": {
        "id": "IYB11a3go4AW"
      },
      "source": [
        "## Using Scikit-Learn Toolbox"
      ]
    },
    {
      "cell_type": "markdown",
      "metadata": {
        "id": "RCDdGvUGl1O2"
      },
      "source": [
        "A linear model seems to be a good choice to predict *petal-width* given petal-length, let's use **scikit-learn** tools to do a linear regression:\n"
      ]
    },
    {
      "cell_type": "code",
      "metadata": {
        "id": "u0aTBQocn5tI"
      },
      "source": [
        "from sklearn import linear_model"
      ],
      "execution_count": null,
      "outputs": []
    },
    {
      "cell_type": "code",
      "metadata": {
        "id": "yIh9maFIoQWQ",
        "colab": {
          "base_uri": "https://localhost:8080/"
        },
        "outputId": "7a75a819-d3fd-456b-c9c9-dc0cec53de4d"
      },
      "source": [
        "lin_model = linear_model.LinearRegression()\n",
        "lin_model.fit(x, y)"
      ],
      "execution_count": null,
      "outputs": [
        {
          "output_type": "execute_result",
          "data": {
            "text/plain": [
              "LinearRegression(copy_X=True, fit_intercept=True, n_jobs=None, normalize=False)"
            ]
          },
          "metadata": {
            "tags": []
          },
          "execution_count": 15
        }
      ]
    },
    {
      "cell_type": "markdown",
      "metadata": {
        "id": "tLRcm1MPmn3I"
      },
      "source": [
        "since we want to customize our plot, we will use matplotlib directly this time:"
      ]
    },
    {
      "cell_type": "code",
      "metadata": {
        "id": "i0FnjJjYt6tS",
        "colab": {
          "base_uri": "https://localhost:8080/",
          "height": 546
        },
        "outputId": "6179534d-fb92-4a0c-8ffe-a17d974ca573"
      },
      "source": [
        " with plt.style.context('seaborn'): # use your favorite style, if you don't like the standard one\n",
        "  plt.figure(figsize=(16,9))\n",
        "  plt.scatter(x, y, label='true') \n",
        "\n",
        "  w1 = lin_model.coef_ # weights of the model are stored here\n",
        "  w0 = lin_model.intercept_ # and here it is the intercept\n",
        "\n",
        "  # Compute the y component of the regression line\n",
        "\n",
        "  y_pred = lin_model.predict(x)\n",
        "  #y_pred = [w1 * sample + w0 for sample in x.flatten()] \n",
        "\n",
        "  # (we used a list comprehension here, have a look to the python tutorial\n",
        "  #  if you don't know what it is!)\n",
        "\n",
        "  plt.plot(x, y_pred, label='predicted', color='red')\n",
        "\n",
        "  # enlarging fonts\n",
        "  plt.legend(prop={'size': 20})\n",
        "  plt.xticks(fontsize=20)\n",
        "  plt.yticks(fontsize=20)\n",
        "\n",
        "  plt.show()"
      ],
      "execution_count": null,
      "outputs": [
        {
          "output_type": "display_data",
          "data": {
            "image/png": "[encoded data removed]",
            "text/plain": [
              "<Figure size 1152x648 with 1 Axes>"
            ]
          },
          "metadata": {
            "tags": []
          }
        }
      ]
    },
    {
      "cell_type": "markdown",
      "metadata": {
        "id": "6k3XhIyq6zjk"
      },
      "source": [
        "To evaluate the quality of our regression we can analyse some metrics:"
      ]
    },
    {
      "cell_type": "code",
      "metadata": {
        "id": "xM7hyv5VuA-J"
      },
      "source": [
        "from sklearn.metrics import mean_squared_error, r2_score\n",
        "from sklearn.feature_selection import f_regression"
      ],
      "execution_count": null,
      "outputs": []
    },
    {
      "cell_type": "markdown",
      "metadata": {
        "id": "R6PxpJIy9sEh"
      },
      "source": [
        "### Residual Sum of Squares \n",
        "\n",
        "$RSS = \\sum_n (\\hat{t}_n-t_n)^2$, it tells us how much of the prediction differs from the true value."
      ]
    },
    {
      "cell_type": "code",
      "metadata": {
        "id": "NefO1wGd_ZW4"
      },
      "source": [
        "lin_model._residues"
      ],
      "execution_count": null,
      "outputs": []
    },
    {
      "cell_type": "markdown",
      "metadata": {
        "id": "b9WRg42r9COM"
      },
      "source": [
        "### Coefficient of determination \n",
        "\n",
        "$R^2 = 1 - \\frac{RSS}{\\sum_n (\\bar{t}-t_n)^2}$, it tells us how the fraction of the variance of the data explained by the model (how much better we are doing w.r.t. just using the mean of the target \u0016$\\bar{t} = \\frac{\\sum_n t_n}{N}$).\n",
        "\n",
        "In spaces with a single feature this is equal to the correlation coefficient between the input and the output;\n",
        "\n",
        "For a more detailed explanation: https://en.wikipedia.org/wiki/Coefficient_of_determination"
      ]
    },
    {
      "cell_type": "code",
      "metadata": {
        "id": "320Lw_LDv55f"
      },
      "source": [
        "r2_score(y, y_pred)"
      ],
      "execution_count": null,
      "outputs": []
    },
    {
      "cell_type": "markdown",
      "metadata": {
        "id": "OXBmBYQS7kJJ"
      },
      "source": [
        "### Mean Squared Error\n",
        "\n",
        "$MSE = \\frac{\\sum_n (\\hat{t}_n-t_n)^2}{N}$, it tells approximately how much error we get on a predicted data over the training set (i.e., a normalized version of the RSS)."
      ]
    },
    {
      "cell_type": "code",
      "metadata": {
        "id": "EFTip4m7vriY"
      },
      "source": [
        " mean_squared_error(y, y_pred)"
      ],
      "execution_count": null,
      "outputs": []
    },
    {
      "cell_type": "markdown",
      "metadata": {
        "id": "ikyuzWZCUZmy"
      },
      "source": [
        "Under the assumption that the observations $t_n$ are i.i.d. and satisfies $t_n = w_0 + \\sum_j w_j x_{nj} + \\epsilon$, where $\\epsilon$ is a Gaussian noise with zero mean and variance $\\sigma^2$ (i.e., the data are generated by a linear model with noise), the computed coefficients $\\hat{w}_j$ are distributed as follows:\n",
        "\\begin{equation*}\n",
        "\t\\frac{\\hat{w}_j - w_j}{\\hat{\\sigma} \\sqrt{v_j}} \\sim t_{N - M -1}\n",
        "\\end{equation*}\n",
        "where $w_j$ is the true parameter, $\\hat{\\sigma}$ is the unbiased estimated for the target variance, i.e., $\\hat{\\sigma}^2 = \\frac{\\sum_n (t_n - \\bar{t}_n)^2}{N - M - 1}$, $v_j$ is the $j$-th diagonal element of the matrix $(X^T X)^{-1}$ and $t_{N - M}$ is the t-student distribution with $N - M - 1$ degrees of freedom.\n",
        "\n",
        "This allow us to formulate some **statistical tests**:"
      ]
    },
    {
      "cell_type": "markdown",
      "metadata": {
        "id": "KYdRoIWvLsAG"
      },
      "source": [
        "### Single coefficients statistical test:\n",
        "$$H_0: w_j = 0 \\qquad \\text{ vs. } \\qquad H_1: w_j \\neq 0$$\n",
        "\\begin{equation*}\n",
        "t_{stat} = \\frac{\\hat{w}_j - w_j}{\\hat{\\sigma} \\sqrt{v_j}} \\sim t_{N - M - 1}\n",
        "\\end{equation*}\n",
        "where $t_{N - M - 1}$ is the T-Student distribution with $N-M-1$ degrees of freedom"
      ]
    },
    {
      "cell_type": "markdown",
      "metadata": {
        "id": "vIh8kFzOBm5P"
      },
      "source": [
        "### Overall significance of the model: F-statistic\n",
        "\n",
        "It considers the following hypothesis test:\n",
        "\n",
        "$$H_0: w_0 = w_1 = \\dots = w_M = 0 \\text{ vs. }  H_1: \\exists w_j \\neq 0$$\n",
        "\n",
        "\n",
        "The F-statistic can be computed and is distributed as follows:\n",
        "$$ F = \\frac{dfe}{M - 1}\\frac{\\sum_n (\\hat{t}_n-t_n)- RSS}{RSS} \\sim F_{M-1, N-M} $$\n",
        "\n",
        "where $F_{M-1, N-M}$ is the Fisher-Snedecor distribution with parameters $M-1$ and $N-M$."
      ]
    },
    {
      "cell_type": "code",
      "metadata": {
        "id": "UhSXLX9Q115o"
      },
      "source": [
        "f_regression(x, y) # it outputs a tuple: (value of the F-statistics, its p-value)"
      ],
      "execution_count": null,
      "outputs": []
    },
    {
      "cell_type": "markdown",
      "metadata": {
        "id": "68YdCO_YFNjQ"
      },
      "source": [
        "If one wants all the information about the output of a linear model in a single instruction, just use the library **statsmodels** and use the function **summary()** on the result of the Ordinary Least Square optimization procedure"
      ]
    },
    {
      "cell_type": "code",
      "metadata": {
        "id": "xBi56iByBGL-"
      },
      "source": [
        "from statsmodels import api as sm\n",
        "lin_model2 = sm.OLS(y, x).fit()\n",
        "print(lin_model2.summary())"
      ],
      "execution_count": null,
      "outputs": []
    },
    {
      "cell_type": "code",
      "metadata": {
        "id": "C3xbvcYLy1b3"
      },
      "source": [
        "lin_model2._results.params"
      ],
      "execution_count": null,
      "outputs": []
    },
    {
      "cell_type": "code",
      "metadata": {
        "id": "qMgH_0AmzF2Z"
      },
      "source": [
        "lin_model2._results.k_constant"
      ],
      "execution_count": null,
      "outputs": []
    },
    {
      "cell_type": "markdown",
      "metadata": {
        "id": "MhYMNJakoxBa"
      },
      "source": [
        "## Custom Implementation\n",
        "\n",
        "We can also implement Least-Squares from scratch, using its closed-form:\n",
        "\n",
        "\\begin{equation}\n",
        "\\hat{\\mathbb{w}}_{OLS} = (\\mathbb{\\Phi}^{\\top}\\mathbb{\\Phi})^{-1}\\mathbb{\\Phi}^{\\top}\\ \\mathbb{t},\n",
        "\\end{equation}\n",
        "\n",
        "where $\\mathbb{\\Phi}= (\\phi(x_1), \\dots, \\phi(x_N))^{\\top}$ and $\\mathbb{t} = (t_1, \\dots, t_N)^{\\top}.$\n",
        "\n",
        "By using **numpy**:\n"
      ]
    },
    {
      "cell_type": "code",
      "metadata": {
        "id": "EkjL1BgVI6qn"
      },
      "source": [
        "from numpy.linalg import inv\n",
        "\n",
        "n_samples = len(x)\n",
        "Phi = np.ones((n_samples, 2))\n",
        "Phi[:, 1] = x.flatten() # the second column is the feature\n",
        "# the field 'T' represents the transposed matrix, @ is the matrix product, the method 'dot' is the matrix product\n",
        "w = inv(Phi.T @ Phi) @ (Phi.T.dot(y))  "
      ],
      "execution_count": null,
      "outputs": []
    },
    {
      "cell_type": "code",
      "metadata": {
        "id": "GeabDZQnKoit"
      },
      "source": [
        "w"
      ],
      "execution_count": null,
      "outputs": []
    },
    {
      "cell_type": "markdown",
      "metadata": {
        "id": "NLceCKRHpDzr"
      },
      "source": [
        "## Regularization\n",
        "\n",
        "If we need to mitigate over-fitting effects in a model we might resort to some regularization techniques, like Ridge regression or Lasso regression."
      ]
    },
    {
      "cell_type": "markdown",
      "metadata": {
        "id": "vYt3HsLkFfzR"
      },
      "source": [
        "### Ridge Regression\n",
        "Linear least squares with l2 regularization."
      ]
    },
    {
      "cell_type": "code",
      "metadata": {
        "id": "IaRGEK4YwME1"
      },
      "source": [
        "ridge_model = linear_model.Ridge(alpha=10)\n",
        "ridge_model.fit(x, y)"
      ],
      "execution_count": null,
      "outputs": []
    },
    {
      "cell_type": "markdown",
      "metadata": {
        "id": "xgnd8TqwFnSn"
      },
      "source": [
        "### Lasso Regression\n",
        "\n",
        "Linear Model trained with L1 prior as regularizer."
      ]
    },
    {
      "cell_type": "code",
      "metadata": {
        "id": "eocxqnr0GUGA"
      },
      "source": [
        "lasso_model = linear_model.Lasso(alpha=10)\n",
        "lasso_model.fit(x, y)"
      ],
      "execution_count": null,
      "outputs": []
    },
    {
      "cell_type": "code",
      "metadata": {
        "id": "eGX3sBIjxTtY"
      },
      "source": [
        " with plt.style.context('seaborn'):\n",
        "  plt.figure(figsize=(16,9))\n",
        "  plt.scatter(x, y, label='original samples')\n",
        "  y_linear = [lin_model.coef_ * x_i + lin_model.intercept_ for x_i in x]\n",
        "  plt.plot(x, y_linear, label='linear regression', color='red')\n",
        "  for alpha in [0.1, 0.2, 0.5]:    \n",
        "    # lasso regression\n",
        "    lasso_model = linear_model.Lasso(alpha=alpha)\n",
        "    lasso_model.fit(x, y)\n",
        "    y_lasso = [lasso_model.coef_ * x_i + lasso_model.intercept_ for x_i in x]\n",
        "    plt.plot(x, y_lasso, label='lasso, alpha={}'.format(alpha))\n",
        "\n",
        "\n",
        "  # enlarging fonts\n",
        "  plt.legend(prop={'size': 20})\n",
        "  plt.xticks(fontsize=20)\n",
        "  plt.yticks(fontsize=20)\n",
        "\n",
        "  plt.show()"
      ],
      "execution_count": null,
      "outputs": []
    },
    {
      "cell_type": "code",
      "metadata": {
        "id": "TbRbHvLN18UP"
      },
      "source": [
        "mean_squared_error(y, lasso_model.predict(x))"
      ],
      "execution_count": null,
      "outputs": []
    },
    {
      "cell_type": "markdown",
      "metadata": {
        "id": "QNhAGwb4Iyso"
      },
      "source": [
        "## Homeworks\n",
        "\n",
        "Here we propose some exercises in python for you. They are not mandatory, but they can be helpful to better understand the contents of the lecture, by giving you the opportunity to develop some code by yourself."
      ]
    },
    {
      "cell_type": "markdown",
      "metadata": {
        "id": "iFF82DWZMZF7"
      },
      "source": [
        "### 1) Predicting petal width\n",
        "\n",
        "Consider again the Iris dataset, and complete the following code, by writing a script which is able to predict the petal width by using, this time, **all** the other features as input.\n"
      ]
    },
    {
      "cell_type": "code",
      "metadata": {
        "id": "EoL-MuvNNGDO"
      },
      "source": [
        "url = \"https://archive.ics.uci.edu/ml/machine-learning-databases/iris/iris.data\"\n",
        "names = ['sepal-length', 'sepal-width', 'petal-length', 'petal-width', 'class']\n",
        "dataset = pd.read_csv(url, names=names)\n",
        "\n",
        "# Get input and output\n",
        "x = ### WRITE YOUR CODE HERE ###\n",
        "y = zscore(dataset['petal-width'].values)\n",
        "\n",
        "# Fit your model\n",
        "### WRITE YOUR CODE HERE ###"
      ],
      "execution_count": null,
      "outputs": []
    },
    {
      "cell_type": "markdown",
      "metadata": {
        "id": "PTRopMQPQLe7"
      },
      "source": [
        "Comment on the parameters we would like to introduce or exclude from the prediction process. \n",
        "\n",
        "Does this model is better than the one trained with a single input?\n",
        "\n",
        "How do you check if the two models are significantly different from each other? \n",
        "\n",
        "*(hint: look at the exercise session on Bias-Variance tradeoff)*"
      ]
    },
    {
      "cell_type": "markdown",
      "metadata": {
        "id": "nxGE1RDyMWqu"
      },
      "source": [
        "### 2) Implementing closed-form ridge regression\n",
        "Ridge regression can be obtained in closed form, as we have seen at lesson. Implement it by yourself, by completing the code below."
      ]
    },
    {
      "cell_type": "code",
      "metadata": {
        "id": "_8rWpe8EI4cc"
      },
      "source": [
        "alpha = 100\n",
        "ridge_model = linear_model.Ridge(alpha=alpha)\n",
        "ridge_model.fit(x, y)\n",
        "\n",
        "\n",
        "w = ### WRITE YOUR CODE HERE ###\n",
        "\n",
        "# Compare your solution it with the scikit-learn one!\n",
        "assert np.isclose(w, ridge_model.coef_), 'Something wrong!, try again...'"
      ],
      "execution_count": null,
      "outputs": []
    },
    {
      "cell_type": "code",
      "metadata": {
        "id": "zafiAIByqnKw"
      },
      "source": [
        "### Solution - TO BE REMOVED\n",
        "# N = len(x)\n",
        "# Phi = np.ones((N, 2))\n",
        "# Phi[:, 1] = x.flatten() # the second column is the feature\n",
        "# # the field 'T' represents the transposed matrix, the method 'dot' is the matrix product\n",
        "# ridge_mpinv = inv(alpha * np.eye(2) + Phi.T.dot(Phi)).dot(Phi.T); \n",
        "# w = ridge_mpinv.dot(y);"
      ],
      "execution_count": null,
      "outputs": []
    },
    {
      "cell_type": "markdown",
      "metadata": {
        "id": "_B_rKvZItg6P"
      },
      "source": [
        "### 3) Implementing LS for multiple outputs \n",
        "\n",
        "We have seen at lesson that LS is possible also when we have multiple outputs.\n",
        "\n",
        "Implement it by extending the LS custom implementation that we have seen."
      ]
    },
    {
      "cell_type": "code",
      "metadata": {
        "id": "sOzCW5qXtr-1"
      },
      "source": [
        "### WRITE YOUR CODE HERE ###"
      ],
      "execution_count": null,
      "outputs": []
    },
    {
      "cell_type": "markdown",
      "metadata": {
        "id": "J7jiEl88tByT"
      },
      "source": [
        "### 4) Try it on another dataset\n",
        "\n",
        "Try to repeat the procedure that we have seen for the Iris dataset on a new dataset of your choice:\n",
        "\n",
        "- select a dataset (many are available online, e.g. https://www.kaggle.com/datasets)\n",
        "- visualize data, in order to spot interesting relationships\n",
        "- preprocess data\n",
        "- apply linear regression"
      ]
    },
    {
      "cell_type": "code",
      "metadata": {
        "id": "Cs2jRanHtfgs"
      },
      "source": [
        "### WRITE YOUR CODE HERE ###"
      ],
      "execution_count": null,
      "outputs": []
    }
  ]
}